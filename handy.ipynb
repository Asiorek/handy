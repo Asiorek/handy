{
 "cells": [
  {
   "cell_type": "code",
   "execution_count": 128,
   "metadata": {
    "collapsed": true
   },
   "outputs": [],
   "source": [
    "import simpy"
   ]
  },
  {
   "cell_type": "code",
   "execution_count": 129,
   "metadata": {
    "collapsed": false
   },
   "outputs": [],
   "source": [
    "αm = 1.0 * (1/100) #Normal (minimum) death rate \n",
    "αM = 7.0 * (1/100) #Famine (maximum) death rate\n",
    "βC = 3.0 * (1/100) #Commoner birth rate\n",
    "βE = 3.0 * (1/100) #Elite birth rate \n",
    "s = 5.0 * (1/10000) #Subsistence salary per capita\n",
    "ρ = 5.0 * (1/1000) #Threshold wealth per capita\n",
    "γ = 1.0 * (1/100) #Regeneration rate of nature\n",
    "λ = 1.0 * 100 #Nature carrying capacity\n",
    "κ = [1, 10, 100] #Inequality factor\n",
    "δ = 1 #Depletion (production) factor"
   ]
  },
  {
   "cell_type": "code",
   "execution_count": 130,
   "metadata": {
    "collapsed": false
   },
   "outputs": [],
   "source": [
    "xC = 1.0 * 100 #Commoner population\n",
    "xE = [0, 1, 25] #Elite population\n",
    "y = λ #Nature\n",
    "w = 0 #Accumulated wealth"
   ]
  },
  {
   "cell_type": "code",
   "execution_count": 131,
   "metadata": {
    "collapsed": false
   },
   "outputs": [],
   "source": [
    "# wth = ρ*xC + κ[0]*ρ*xE[1] #Threshold wealth\n",
    "# ω = w / wth #Normalized wealth\n",
    "# CC = min(1, w / wth)*s*xC #Commoner consumption\n",
    "# CE = min(1,w / wth)*κ[0]*s*xE[1] #Elite consumption\n",
    "# αC = αm + max(0,1-(CC/(s*xC)))*(αM-αm) #Commoner death rate\n",
    "# αE = αm + max(0,1-(CE/(s*xE[1])))*(αM-αm) #Elite death rate\n",
    "# η = (αM-βC)/(αM-αm) \n",
    "# χ = (γ/δ)*(λ-(η*(s/δ))) #(CC) Carrying Capacity\n",
    "# δ_1 = 2*η*s/λ #Egalitarian optimal\n",
    "# χM = (γ/δ_1)*(λ/2)  #(Max CC) Maximum Carrying Capacity\n",
    "\n",
    "\n",
    "# φ  #Ratio of non-workers to workers (Equitable)\n",
    "# δ** Equitable optimal δ Eq. (14)\n",
    "# ψ Elite to commoner equilibrium ratio (Unequal) xE,e / xC,e\n",
    "# δ*** Unequal optimal δ Eq. (18)"
   ]
  },
  {
   "cell_type": "code",
   "execution_count": 132,
   "metadata": {
    "collapsed": false
   },
   "outputs": [],
   "source": [
    "# xC = βC*xC-αC*xC\n",
    "# xE = βE*xE[1]-αE*xE[1]\n",
    "# y = γ*y*(λ-y)-δ*xC*y\n",
    "# w = δ*xC*y-CC-CE"
   ]
  },
  {
   "cell_type": "code",
   "execution_count": 133,
   "metadata": {
    "collapsed": false
   },
   "outputs": [
    {
     "name": "stdout",
     "output_type": "stream",
     "text": [
      "xC=100, xE=0, y=100, w=0\n"
     ]
    }
   ],
   "source": [
    "print('xC=%d, xE=%d, y=%d, w=%d' % (xC, xE[0], y, w))"
   ]
  },
  {
   "cell_type": "code",
   "execution_count": 137,
   "metadata": {
    "collapsed": false
   },
   "outputs": [
    {
     "name": "stdout",
     "output_type": "stream",
     "text": [
      "now=0, xC=100, xE=25, y=100, w=0\n",
      "now=1, xC=-4, xE=-1, y=400, w=-1600\n",
      "now=2, xC=0, xE=0, y=-1264, w=-202\n",
      "now=3, xC=0, xE=0, y=-17249, w=110\n",
      "now=4, xC=0, xE=0, y=-2992541, w=-766\n",
      "now=5, xC=0, xE=0, y=-89556054119, w=917053\n",
      "now=6, xC=0, xE=0, y=-80202868383488753664, w=-32851094889877\n",
      "now=7, xC=0, xE=0, y=-64325000969392198203257600616693760000, w=1053900815882523229173491695616\n",
      "now=8, xC=0, xE=0, y=-41377057497123073721859568250187693824097797434069181825221685467976564736, w=-27116868401314619804836057751045484559586834154676694748716072960\n",
      "now=9, xC=0, xE=0, y=-17120608871202288003903604616399227487503128906853387668727277207683526105860582567863904182338407849290415254698152021141841207504563792550821888, w=448806489193246107745931756113439038090608409515629738131508096949375579038769197416198718341146011469668297621910254311850122940514304\n"
     ]
    }
   ],
   "source": [
    "def handy(env, xC, xE, y, w):\n",
    "    while True:\n",
    "        print('now=%d, xC=%d, xE=%d, y=%d, w=%d' % (env.now, xC, xE, y, w))\n",
    "        xC = βC*xC-αC*xC\n",
    "        xE = βE*xE-αE*xE\n",
    "        y = γ*y*(λ-y)-δ*xC*y\n",
    "        w = δ*xC*y-CC-CE\n",
    "        yield env.timeout(1)\n",
    "\n",
    "env = simpy.Environment()\n",
    "\n",
    "process = env.process(handy(env, xC, xE[2], y, w))\n",
    "env.run(until=10)"
   ]
  },
  {
   "cell_type": "code",
   "execution_count": 118,
   "metadata": {
    "collapsed": false
   },
   "outputs": [
    {
     "name": "stdout",
     "output_type": "stream",
     "text": [
      "now=1, x=100, y=1000\n",
      "now=2, x=-1, y=30\n",
      "now=3, x=0, y=0\n",
      "now=4, x=0, y=0\n",
      "now=5, x=0, y=-11\n",
      "now=6, x=0, y=-178731\n",
      "now=7, x=0, y=680160396202\n",
      "now=8, x=0, y=776504306398764597248\n",
      "now=9, x=0, y=-310273325861039899510297103171584\n",
      "now=10, x=0, y=-49591244219801600615976399125479244795173928960\n",
      "now=11, x=0, y=3566794449376046485387894995958252085812739017977186258453004288\n",
      "now=12, x=0, y=128268839028442017688574009652560525595796196949840838115956866731450743653509627904\n",
      "now=13, x=0, y=-2537037784086603550839128340546900416899014702232729526395070371855502831557280215046907403902008973852672\n",
      "now=14, x=0, y=-30108142086430688102563551457366753953699562031914168759178981425482407637730343691836556207125797257387196881981791656060748038144\n",
      "now=15, x=0, y=232249258023955659699518344467356184673576335427779374580189741186293403965873481880632210251871727571410918413425743587182545700107009683312142077391051685888\n"
     ]
    }
   ],
   "source": [
    "x = 100 #wolves\n",
    "y = 1000 #rabbits\n",
    "a = 3 * 0.00001\n",
    "b = 2 * 0.01\n",
    "c = 3 * 0.01\n",
    "d = 2 * 0.0001\n",
    "\n",
    "\n",
    "def pred_and_prey(env, x, y):\n",
    "    while True:\n",
    "        years = env.now + 1\n",
    "        print('now=%d, x=%d, y=%d' % (years, x, y))\n",
    "        x = (a*x)/(y*years) - (b*x)/years \n",
    "        y = (c*y)/years - (d*y)/(x*years)\n",
    "        yield env.timeout(1)\n",
    "        \n",
    "env = simpy.Environment()\n",
    "\n",
    "process = env.process(pred_and_prey(env, x, y))\n",
    "env.run(until=15)"
   ]
  },
  {
   "cell_type": "code",
   "execution_count": null,
   "metadata": {
    "collapsed": true
   },
   "outputs": [],
   "source": []
  }
 ],
 "metadata": {
  "kernelspec": {
   "display_name": "Python 3",
   "language": "python",
   "name": "python3"
  },
  "language_info": {
   "codemirror_mode": {
    "name": "ipython",
    "version": 3
   },
   "file_extension": ".py",
   "mimetype": "text/x-python",
   "name": "python",
   "nbconvert_exporter": "python",
   "pygments_lexer": "ipython3",
   "version": "3.5.2"
  }
 },
 "nbformat": 4,
 "nbformat_minor": 2
}
